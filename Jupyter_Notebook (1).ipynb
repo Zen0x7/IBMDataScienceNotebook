{
  "cells": [
    {
      "cell_type": "markdown",
      "metadata": {
        "id": "9c5e64dc-2bc7-4640-9b71-877eda7b6100"
      },
      "source": [
        "<center>\n",
        "    <img src=\"https://cf-courses-data.s3.us.cloud-object-storage.appdomain.cloud/IBMDeveloperSkillsNetwork-DS0105EN-SkillsNetwork/labs/Module2/images/SN_web_lightmode.png\" width=\"300\" alt=\"cognitiveclass.ai logo\">\n",
        "</center>\n"
      ]
    },
    {
      "cell_type": "markdown",
      "metadata": {
        "id": "bca0d27a-24c6-4c43-b116-c73c8d9ab219"
      },
      "source": [
        "# Hands-on Lab: Create your Jupyter Notebook\n"
      ]
    },
    {
      "cell_type": "markdown",
      "metadata": {
        "id": "8b126e2f-912e-42e0-8d57-43862ac465fc"
      },
      "source": [
        "#### Add your code below following the instructions given in the course\n"
      ]
    },
    {
      "cell_type": "markdown",
      "source": [
        "# Create your Jupyter Notebook\n",
        "\n",
        "Is the title this?"
      ],
      "metadata": {
        "id": "JBam3pSjXBJQ"
      }
    },
    {
      "cell_type": "markdown",
      "source": [
        "## Introduction\n",
        "\n",
        "In this notebook we gonna support the exercises defined in Coursera"
      ],
      "metadata": {
        "id": "MJ1gMftnXK1K"
      }
    },
    {
      "cell_type": "markdown",
      "source": [
        "### List of data science languages\n",
        "\n",
        "- Python\n",
        "- R\n",
        "- SQL (Data access)"
      ],
      "metadata": {
        "id": "lXlMeqynXRei"
      }
    },
    {
      "cell_type": "markdown",
      "source": [
        "### List of data science libraries\n",
        "\n",
        "- Pandas\n",
        "- Numpy\n",
        "- Matplotlib\n",
        "- Tensorflow"
      ],
      "metadata": {
        "id": "3DB295qHXbOX"
      }
    },
    {
      "cell_type": "markdown",
      "source": [
        "### Table of data science tools\n",
        "\n",
        "| name | description |\n",
        "|---|---|\n",
        "| Jupyter (lab/notebook) | Open source tool to create and run notebooks|\n",
        "| RStudio | The IDE of R |\n",
        "| GitHub | Git based platform |"
      ],
      "metadata": {
        "id": "Opw_yqLOXjgs"
      }
    },
    {
      "cell_type": "markdown",
      "source": [],
      "metadata": {
        "id": "lJg-qvu1W5_v"
      }
    },
    {
      "cell_type": "markdown",
      "source": [
        "### Introduction to aritmetic expressions\n",
        "\n",
        "You can sum and sub:\n",
        "\n",
        "```\n",
        "a = 5 + 10 - 0\n",
        "```\n",
        "\n",
        "multiply and divide:\n",
        "\n",
        "```\n",
        "b = 10 * 5 / 10\n",
        "```"
      ],
      "metadata": {
        "id": "HP5jivO0YOQB"
      }
    },
    {
      "cell_type": "code",
      "source": [
        "# Multiply and adding numbers\n",
        "\n",
        "a = 10 * 5 + 5"
      ],
      "metadata": {
        "id": "6f2fRqO2Yefi"
      },
      "execution_count": null,
      "outputs": []
    },
    {
      "cell_type": "code",
      "source": [
        "def minutes_to_hours(mins):\n",
        "    hours = mins / 60\n",
        "    return hours\n",
        "\n",
        "minutes_to_hours(120)"
      ],
      "metadata": {
        "colab": {
          "base_uri": "https://localhost:8080/"
        },
        "id": "FFv97bYUYrbk",
        "outputId": "bad7d329-4f1a-425e-b709-25b6ccee5a77"
      },
      "execution_count": 2,
      "outputs": [
        {
          "output_type": "execute_result",
          "data": {
            "text/plain": [
              "2.0"
            ]
          },
          "metadata": {},
          "execution_count": 2
        }
      ]
    },
    {
      "cell_type": "markdown",
      "source": [
        "# Objetives\n",
        "\n",
        "1. Overview of Data Science Tools\n",
        "2. Languages of Data Science\n",
        "3. Packages, APIs, Datasets, and Models\n",
        "4. Jupyter Notebook and JupyterLab\n",
        "5. RStudio & GitHub\n",
        "6. Create and Share your Jupyter Notebook"
      ],
      "metadata": {
        "id": "zl-4-mX2ZFzB"
      }
    },
    {
      "cell_type": "markdown",
      "source": [
        "# Author\n",
        "\n",
        "Ian Torres"
      ],
      "metadata": {
        "id": "fRjIPYlMZpUE"
      }
    },
    {
      "cell_type": "markdown",
      "metadata": {
        "id": "b5f467ed-efe7-45ac-a08b-b2d48c26ba81"
      },
      "source": [
        "Copyright ©2024 IBM Corporation. All rights reserved.\n"
      ]
    }
  ],
  "metadata": {
    "kernelspec": {
      "display_name": "Python",
      "language": "python",
      "name": "conda-env-python-py"
    },
    "language_info": {
      "name": "python",
      "version": "3.7.12",
      "mimetype": "text/x-python",
      "codemirror_mode": {
        "name": "ipython",
        "version": 3
      },
      "pygments_lexer": "ipython3",
      "nbconvert_exporter": "python",
      "file_extension": ".py"
    },
    "prev_pub_hash": "9e1985db9844176462bd1d5863048c9f3d17404bbc6a648be9084b0c42b29347",
    "colab": {
      "provenance": []
    }
  },
  "nbformat": 4,
  "nbformat_minor": 0
}